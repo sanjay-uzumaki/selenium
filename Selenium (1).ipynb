{
 "cells": [
  {
   "cell_type": "code",
   "execution_count": null,
   "id": "cb43336f",
   "metadata": {},
   "outputs": [],
   "source": [
    "import json\n",
    "from selenium.webdriver.chrome.webdriver import WebDriver\n",
    "from selenium.webdriver.common.desired_capabilities import DesiredCapabilities\n",
    "url = \"https://www.atg.party/\"\n",
    "capabilities = DesiredCapabilities.CHROME.copy()\n",
    "capabilities['goog:loggingPrefs'] = {'performance': 'ALL'}\n",
    "browser = WebDriver( desired_capabilities=capabilities)\n",
    "browser.get(url)\n",
    "logs = browser.get_log('performance')"
   ]
  },
  {
   "cell_type": "code",
   "execution_count": null,
   "id": "7749268a",
   "metadata": {},
   "outputs": [],
   "source": [
    "logs"
   ]
  },
  {
   "cell_type": "code",
   "execution_count": null,
   "id": "f80a6e1d",
   "metadata": {},
   "outputs": [],
   "source": [
    "def get_status(logs):\n",
    "    for log in logs:\n",
    "        if log['message']:\n",
    "            d = json.loads(log['message'])\n",
    "            try:\n",
    "                content_type = 'text/html' in d['message']['params']['response']['headers']['content-type']\n",
    "                response_received = d['message']['method'] == 'Network.responseReceived'\n",
    "                if content_type and response_received:\n",
    "                    return d['message']['params']['response']['status'],d['message']['params']['response']['responseTime']\n",
    "            except:\n",
    "                pass\n",
    "x=get_status(logs)"
   ]
  },
  {
   "cell_type": "code",
   "execution_count": null,
   "id": "15e5e932",
   "metadata": {},
   "outputs": [],
   "source": [
    "x[0]"
   ]
  },
  {
   "cell_type": "code",
   "execution_count": null,
   "id": "86de5f35",
   "metadata": {},
   "outputs": [],
   "source": [
    "import logging\n",
    "logging.basicConfig(filename=\"test.log\",level=logging.DEBUG,format='%(message)s')\n",
    "logging.info(\"Response Time:\"+str(x[1]))"
   ]
  },
  {
   "cell_type": "code",
   "execution_count": null,
   "id": "5332f815",
   "metadata": {},
   "outputs": [],
   "source": [
    "login = browser.find_element_by_xpath(\"/html/body/header/div[1]/div[2]/div/ul/li[2]/a\")\n",
    "login.click()\n"
   ]
  },
  {
   "cell_type": "code",
   "execution_count": null,
   "id": "d7f7ae9f",
   "metadata": {},
   "outputs": [],
   "source": [
    "username = browser.find_element_by_xpath(\"//*[@id='email']\")\n",
    "username.send_keys(\"wiz_saurabh@rediffmail.com\")\n",
    "passw = browser.find_element_by_xpath(\"//*[@id='password']\")\n",
    "passw.send_keys(\"Pass@123\")\n"
   ]
  },
  {
   "cell_type": "code",
   "execution_count": null,
   "id": "bfcc429c",
   "metadata": {},
   "outputs": [],
   "source": [
    "login = browser.find_element_by_xpath(\"//*[@id='frm_landing_page_user_login']/div[3]/button\")\n",
    "login.click()"
   ]
  },
  {
   "cell_type": "code",
   "execution_count": null,
   "id": "4ea9aef0",
   "metadata": {},
   "outputs": [],
   "source": [
    "browser.get(\"https://www.atg.party/article\")"
   ]
  },
  {
   "cell_type": "code",
   "execution_count": null,
   "id": "e5d3b86e",
   "metadata": {},
   "outputs": [],
   "source": [
    "import os\n",
    "title = browser.find_element_by_xpath(\"  //*[@id='title']\")  \n",
    "title.send_keys(\"Pass@123\")\n",
    "desc = browser.find_element_by_xpath(\"//*[@id='description']/div/div[1]/div/div/div\")    \n",
    "desc.send_keys(\"Hello\")\n",
    "photo = browser.find_element_by_xpath(\"//*[@id='cover_image']\")   \n",
    "photo.send_keys(os.getcwd()+\"/hi.jpg\")"
   ]
  },
  {
   "cell_type": "code",
   "execution_count": null,
   "id": "dc483b5e",
   "metadata": {},
   "outputs": [],
   "source": [
    "post = browser.find_element_by_xpath(\"//*[@id='hpost_btn']\")   \n",
    "post.click()\n"
   ]
  },
  {
   "cell_type": "code",
   "execution_count": null,
   "id": "43bd1bfe",
   "metadata": {},
   "outputs": [],
   "source": [
    "z=browser.current_url\n",
    "logging.info(z)"
   ]
  },
  {
   "cell_type": "code",
   "execution_count": null,
   "id": "bb6a76ca",
   "metadata": {},
   "outputs": [],
   "source": [
    "\n"
   ]
  },
  {
   "cell_type": "code",
   "execution_count": null,
   "id": "01c0fc79",
   "metadata": {},
   "outputs": [],
   "source": []
  },
  {
   "cell_type": "code",
   "execution_count": null,
   "id": "9e9e0264",
   "metadata": {},
   "outputs": [],
   "source": []
  },
  {
   "cell_type": "code",
   "execution_count": null,
   "id": "1e00ff99",
   "metadata": {},
   "outputs": [],
   "source": [
    "\n"
   ]
  },
  {
   "cell_type": "code",
   "execution_count": null,
   "id": "384c34af",
   "metadata": {},
   "outputs": [],
   "source": []
  },
  {
   "cell_type": "code",
   "execution_count": null,
   "id": "7b08915c",
   "metadata": {},
   "outputs": [],
   "source": []
  },
  {
   "cell_type": "code",
   "execution_count": null,
   "id": "f5681a05",
   "metadata": {},
   "outputs": [],
   "source": []
  },
  {
   "cell_type": "code",
   "execution_count": null,
   "id": "2ef708d9",
   "metadata": {},
   "outputs": [],
   "source": []
  },
  {
   "cell_type": "code",
   "execution_count": null,
   "id": "3859772b",
   "metadata": {},
   "outputs": [],
   "source": []
  },
  {
   "cell_type": "code",
   "execution_count": null,
   "id": "e70a2e2f",
   "metadata": {},
   "outputs": [],
   "source": []
  },
  {
   "cell_type": "code",
   "execution_count": null,
   "id": "bef4b2ad",
   "metadata": {},
   "outputs": [],
   "source": [
    "                 "
   ]
  },
  {
   "cell_type": "code",
   "execution_count": null,
   "id": "bbbd8e81",
   "metadata": {},
   "outputs": [],
   "source": []
  },
  {
   "cell_type": "code",
   "execution_count": null,
   "id": "ab6fc82b",
   "metadata": {},
   "outputs": [],
   "source": []
  },
  {
   "cell_type": "code",
   "execution_count": null,
   "id": "132fb00c",
   "metadata": {},
   "outputs": [],
   "source": []
  },
  {
   "cell_type": "code",
   "execution_count": null,
   "id": "2268d787",
   "metadata": {},
   "outputs": [],
   "source": [
    "  "
   ]
  },
  {
   "cell_type": "code",
   "execution_count": null,
   "id": "a980581c",
   "metadata": {},
   "outputs": [],
   "source": []
  },
  {
   "cell_type": "code",
   "execution_count": null,
   "id": "639d5b97",
   "metadata": {},
   "outputs": [],
   "source": [
    "  "
   ]
  },
  {
   "cell_type": "code",
   "execution_count": null,
   "id": "18b4a177",
   "metadata": {},
   "outputs": [],
   "source": []
  },
  {
   "cell_type": "code",
   "execution_count": null,
   "id": "bc628a39",
   "metadata": {},
   "outputs": [],
   "source": []
  },
  {
   "cell_type": "code",
   "execution_count": null,
   "id": "283ea471",
   "metadata": {},
   "outputs": [],
   "source": []
  },
  {
   "cell_type": "code",
   "execution_count": null,
   "id": "7520c81e",
   "metadata": {},
   "outputs": [],
   "source": []
  },
  {
   "cell_type": "code",
   "execution_count": null,
   "id": "7b18b3d2",
   "metadata": {},
   "outputs": [],
   "source": []
  }
 ],
 "metadata": {
  "kernelspec": {
   "display_name": "Python 3",
   "language": "python",
   "name": "python3"
  },
  "language_info": {
   "codemirror_mode": {
    "name": "ipython",
    "version": 3
   },
   "file_extension": ".py",
   "mimetype": "text/x-python",
   "name": "python",
   "nbconvert_exporter": "python",
   "pygments_lexer": "ipython3",
   "version": "3.8.8"
  }
 },
 "nbformat": 4,
 "nbformat_minor": 5
}
